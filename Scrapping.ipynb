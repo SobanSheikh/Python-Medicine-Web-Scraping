{
 "cells": [
  {
   "cell_type": "code",
   "execution_count": null,
   "id": "29f105ee",
   "metadata": {},
   "outputs": [],
   "source": [
    "from selenium import webdriver\n",
    "from bs4 import BeautifulSoup\n",
    "import pandas as pd\n",
    "driver = webdriver.Chrome(executable_path='C:\\\\Users\\\\Zain Ch\\\\anaconda3\\\\chromedriver_win32\\\\chromedriver.exe')\n",
    "products=[] \n",
    "prices=[] \n",
    "types=[] \n",
    "company=[]\n",
    "formula=[]\n",
    "dosesize=[]\n",
    "quan=[]\n",
    "\n",
    "driver.get(\"https://www.1mg.com/drugs-all-medicines\")\n",
    "content = driver.page_source\n",
    "soup = BeautifulSoup(content,'html.parser')\n",
    "list=soup.findAll('div',attrs={'class' : 'style__width-100p___2woP5 style__flex-row___m8FHw'})\n",
    "for a in list:\n",
    "    name=(a.find('div', attrs={'class':'style__font-bold___1k9Dl style__font-14px___YZZrf style__flex-row___2AKyf style__space-between___2mbvn style__padding-bottom-5px___2NrDR'}).findChildren()[0])\n",
    "    price=(a.find('div', attrs={'class':'style__font-bold___1k9Dl style__font-14px___YZZrf style__flex-row___2AKyf style__space-between___2mbvn style__padding-bottom-5px___2NrDR'}).findChildren()[1])\n",
    "    Type=a.find('div', attrs={'class':'style__font-12px___2ru_e style__product-content___5PFBW style__display-inline-block___2y7gd'})\n",
    "    Company=(a.find('div',attrs={'class':'style__flex-column___1zNVy style__font-12px___2ru_e'}).findChildren()[1])\n",
    "    Formula=a.find('div',attrs={'class':'style__font-12px___2ru_e style__product-content___5PFBW style__display-inline-block___2y7gd'})\n",
    "    DoseSize=a.find('div',attrs={'class':'style__font-12px___2ru_e style__product-content___5PFBW style__display-inline-block___2y7gd'})\n",
    "    Quantity=(a.find('div',attrs={'class':'style__flex-column___1zNVy style__font-12px___2ru_e'}).findChildren()[0])\n",
    "    products.append(name.text)\n",
    "    prices.append(price.text)\n",
    "    types.append(Type.text)\n",
    "    company.append(Company.text)\n",
    "    formula.append(Formula.text)\n",
    "    dosesize.append(DoseSize.text)\n",
    "    quan.append(Quantity.text)\n",
    "df = pd.DataFrame({'Product Name':products,'Price':prices,'Type':types,'Company':company,'Formula':formula,'Dose Size':dosesize,'Quantity':quan})\n",
    "df.to_csv('product1.csv', index=False, encoding='utf-8')"
   ]
  },
  {
   "cell_type": "code",
   "execution_count": null,
   "id": "2fdd2102",
   "metadata": {},
   "outputs": [],
   "source": []
  }
 ],
 "metadata": {
  "kernelspec": {
   "display_name": "Python 3",
   "language": "python",
   "name": "python3"
  },
  "language_info": {
   "codemirror_mode": {
    "name": "ipython",
    "version": 3
   },
   "file_extension": ".py",
   "mimetype": "text/x-python",
   "name": "python",
   "nbconvert_exporter": "python",
   "pygments_lexer": "ipython3",
   "version": "3.8.8"
  }
 },
 "nbformat": 4,
 "nbformat_minor": 5
}
