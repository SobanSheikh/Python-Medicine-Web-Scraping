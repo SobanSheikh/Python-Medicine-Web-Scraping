{
 "cells": [
  {
   "cell_type": "code",
   "execution_count": 4,
   "id": "29f105ee",
   "metadata": {},
   "outputs": [
    {
     "ename": "PermissionError",
     "evalue": "[Errno 13] Permission denied: 'medicine.csv'",
     "output_type": "error",
     "traceback": [
      "\u001b[1;31m---------------------------------------------------------------------------\u001b[0m",
      "\u001b[1;31mPermissionError\u001b[0m                           Traceback (most recent call last)",
      "\u001b[1;32m<ipython-input-4-6989c20f1514>\u001b[0m in \u001b[0;36m<module>\u001b[1;34m\u001b[0m\n\u001b[0;32m     59\u001b[0m     \u001b[0mcheck\u001b[0m \u001b[1;33m=\u001b[0m \u001b[0mint\u001b[0m\u001b[1;33m(\u001b[0m\u001b[0mpage\u001b[0m\u001b[1;33m[\u001b[0m\u001b[0mlen\u001b[0m\u001b[1;33m(\u001b[0m\u001b[0mpage\u001b[0m\u001b[1;33m)\u001b[0m\u001b[1;33m-\u001b[0m\u001b[1;36m1\u001b[0m\u001b[1;33m]\u001b[0m\u001b[1;33m.\u001b[0m\u001b[0mtext\u001b[0m\u001b[1;33m)\u001b[0m\u001b[1;33m\u001b[0m\u001b[1;33m\u001b[0m\u001b[0m\n\u001b[0;32m     60\u001b[0m     \u001b[1;32mfor\u001b[0m \u001b[0mx\u001b[0m \u001b[1;32min\u001b[0m \u001b[0mrange\u001b[0m\u001b[1;33m(\u001b[0m\u001b[1;36m1\u001b[0m\u001b[1;33m,\u001b[0m\u001b[0mcheck\u001b[0m\u001b[1;33m+\u001b[0m\u001b[1;36m1\u001b[0m\u001b[1;33m)\u001b[0m\u001b[1;33m:\u001b[0m\u001b[1;33m\u001b[0m\u001b[1;33m\u001b[0m\u001b[0m\n\u001b[1;32m---> 61\u001b[1;33m         \u001b[0mgetmedicine\u001b[0m\u001b[1;33m(\u001b[0m\u001b[0mx\u001b[0m\u001b[1;33m,\u001b[0m\u001b[0malpha\u001b[0m\u001b[1;33m[\u001b[0m\u001b[0mi\u001b[0m\u001b[1;33m]\u001b[0m\u001b[1;33m)\u001b[0m\u001b[1;33m\u001b[0m\u001b[1;33m\u001b[0m\u001b[0m\n\u001b[0m\u001b[0;32m     62\u001b[0m \u001b[1;33m\u001b[0m\u001b[0m\n\u001b[0;32m     63\u001b[0m \u001b[1;33m\u001b[0m\u001b[0m\n",
      "\u001b[1;32m<ipython-input-4-6989c20f1514>\u001b[0m in \u001b[0;36mgetmedicine\u001b[1;34m(pages, labels)\u001b[0m\n\u001b[0;32m     37\u001b[0m         \u001b[1;31m#quan.append(Quantity.text)\u001b[0m\u001b[1;33m\u001b[0m\u001b[1;33m\u001b[0m\u001b[1;33m\u001b[0m\u001b[0m\n\u001b[0;32m     38\u001b[0m         \u001b[0mlist_data\u001b[0m \u001b[1;33m=\u001b[0m \u001b[1;33m[\u001b[0m\u001b[0mname\u001b[0m\u001b[1;33m.\u001b[0m\u001b[0mtext\u001b[0m\u001b[1;33m,\u001b[0m\u001b[0mprice\u001b[0m\u001b[1;33m.\u001b[0m\u001b[0mtext\u001b[0m\u001b[1;33m,\u001b[0m\u001b[0mType\u001b[0m\u001b[1;33m.\u001b[0m\u001b[0mtext\u001b[0m\u001b[1;33m,\u001b[0m\u001b[0mCompany\u001b[0m\u001b[1;33m.\u001b[0m\u001b[0mtext\u001b[0m\u001b[1;33m,\u001b[0m\u001b[0mFormula\u001b[0m\u001b[1;33m.\u001b[0m\u001b[0mtext\u001b[0m\u001b[1;33m,\u001b[0m\u001b[0mDoseSize\u001b[0m\u001b[1;33m.\u001b[0m\u001b[0mtext\u001b[0m\u001b[1;33m,\u001b[0m\u001b[0mQuantity\u001b[0m\u001b[1;33m.\u001b[0m\u001b[0mtext\u001b[0m\u001b[1;33m]\u001b[0m\u001b[1;33m\u001b[0m\u001b[1;33m\u001b[0m\u001b[0m\n\u001b[1;32m---> 39\u001b[1;33m         \u001b[1;32mwith\u001b[0m \u001b[0mopen\u001b[0m\u001b[1;33m(\u001b[0m\u001b[1;34m'medicine.csv'\u001b[0m\u001b[1;33m,\u001b[0m\u001b[1;34m'a'\u001b[0m\u001b[1;33m,\u001b[0m\u001b[0mnewline\u001b[0m\u001b[1;33m=\u001b[0m\u001b[1;34m\"\"\u001b[0m\u001b[1;33m,\u001b[0m\u001b[0mencoding\u001b[0m\u001b[1;33m=\u001b[0m\u001b[1;34m'utf-8'\u001b[0m\u001b[1;33m)\u001b[0m \u001b[1;32mas\u001b[0m \u001b[0mf\u001b[0m\u001b[1;33m:\u001b[0m\u001b[1;33m\u001b[0m\u001b[1;33m\u001b[0m\u001b[0m\n\u001b[0m\u001b[0;32m     40\u001b[0m             \u001b[0mwriter_object\u001b[0m \u001b[1;33m=\u001b[0m \u001b[0mwriter\u001b[0m\u001b[1;33m(\u001b[0m\u001b[0mf\u001b[0m\u001b[1;33m)\u001b[0m\u001b[1;33m\u001b[0m\u001b[1;33m\u001b[0m\u001b[0m\n\u001b[0;32m     41\u001b[0m \u001b[1;33m\u001b[0m\u001b[0m\n",
      "\u001b[1;31mPermissionError\u001b[0m: [Errno 13] Permission denied: 'medicine.csv'"
     ]
    }
   ],
   "source": [
    "from selenium import webdriver\n",
    "from bs4 import BeautifulSoup\n",
    "import pandas as pd\n",
    "from csv import writer\n",
    "driver = webdriver.Chrome(executable_path = r\"C:\\Users\\sheik\\Downloads\\chromedriver_win32\\chromedriver.exe\")\n",
    "products=[] \n",
    "prices=[] \n",
    "types=[] \n",
    "company=[]\n",
    "formula=[]\n",
    "dosesize=[]\n",
    "quan=[]\n",
    "\n",
    "column_name = [\"Name\",\"Prices\",\"Type\",\"Company\",\"Formula\",\"Dose_Size\",\"Quantity\"]\n",
    "df = pd.DataFrame(columns =column_name)\n",
    "df.to_csv(\"medicine.csv\",index = False)\n",
    "\n",
    "def getmedicine(pages,labels):\n",
    "    driver.get(\"https://www.1mg.com/drugs-all-medicines?page=\"+str(pages)+\"&label=\"+labels)\n",
    "    content = driver.page_source\n",
    "    soup = BeautifulSoup(content,'html.parser')\n",
    "    medList=soup.findAll('div',attrs={'class' : 'style__width-100p___2woP5 style__flex-row___m8FHw'})\n",
    "    for a in medList:\n",
    "        name=(a.find('div', attrs={'class':'style__font-bold___1k9Dl style__font-14px___YZZrf style__flex-row___2AKyf style__space-between___2mbvn style__padding-bottom-5px___2NrDR'}).findChildren()[0])\n",
    "        price=(a.find('div', attrs={'class':'style__font-bold___1k9Dl style__font-14px___YZZrf style__flex-row___2AKyf style__space-between___2mbvn style__padding-bottom-5px___2NrDR'}).findChildren()[1])\n",
    "        Type=a.find('div', attrs={'class':'style__font-12px___2ru_e style__product-content___5PFBW style__display-inline-block___2y7gd'})\n",
    "        Company=(a.find('div',attrs={'class':'style__flex-column___1zNVy style__font-12px___2ru_e'}).findChildren()[1])\n",
    "        Formula=a.find('div',attrs={'class':'style__font-12px___2ru_e style__product-content___5PFBW style__display-inline-block___2y7gd'})\n",
    "        DoseSize=a.find('div',attrs={'class':'style__font-12px___2ru_e style__product-content___5PFBW style__display-inline-block___2y7gd'})\n",
    "        Quantity=(a.find('div',attrs={'class':'style__flex-column___1zNVy style__font-12px___2ru_e'}).findChildren()[0])\n",
    "        #products.append(name.text)\n",
    "        #prices.append(price.text)\n",
    "        #types.append(Type.text)\n",
    "        #company.append(Company.text)\n",
    "        #formula.append(Formula.text)\n",
    "        #dosesize.append(DoseSize.text)\n",
    "        #quan.append(Quantity.text)\n",
    "        list_data = [name.text,price.text,Type.text,Company.text,Formula.text,DoseSize.text,Quantity.text]\n",
    "        with open('medicine.csv','a',newline=\"\",encoding='utf-8') as f:\n",
    "            writer_object = writer(f)\n",
    "            \n",
    "            writer_object.writerow(list_data)\n",
    "            f.close()\n",
    "       \n",
    "    return\n",
    "\n",
    "alpha = []\n",
    "count = 97  \n",
    "\n",
    "for i in range(26):\n",
    "    alpha.append(chr(count))\n",
    "    count = count+1\n",
    "    \n",
    "for i in range(26):\n",
    "    driver.get(\"https://www.1mg.com/drugs-all-medicines?label=\"+alpha[i])\n",
    "    content = driver.page_source\n",
    "    soup = BeautifulSoup(content)\n",
    "    page = soup.find_all('a',{'class':'button-text link-page'})\n",
    "    check = int(page[len(page)-1].text)  \n",
    "    for x in range(1,check+1): \n",
    "        getmedicine(x,alpha[i])\n",
    "        \n",
    "\n",
    "\n",
    "    \n"
   ]
  },
  {
   "cell_type": "code",
   "execution_count": null,
   "id": "1701403a",
   "metadata": {},
   "outputs": [],
   "source": []
  },
  {
   "cell_type": "code",
   "execution_count": null,
   "id": "22218a75",
   "metadata": {},
   "outputs": [],
   "source": []
  }
 ],
 "metadata": {
  "kernelspec": {
   "display_name": "Python 3",
   "language": "python",
   "name": "python3"
  },
  "language_info": {
   "codemirror_mode": {
    "name": "ipython",
    "version": 3
   },
   "file_extension": ".py",
   "mimetype": "text/x-python",
   "name": "python",
   "nbconvert_exporter": "python",
   "pygments_lexer": "ipython3",
   "version": "3.8.8"
  }
 },
 "nbformat": 4,
 "nbformat_minor": 5
}
