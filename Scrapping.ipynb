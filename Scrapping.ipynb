{
 "cells": [
  {
   "cell_type": "code",
   "execution_count": 2,
   "id": "29f105ee",
   "metadata": {},
   "outputs": [],
   "source": [
    "from selenium import webdriver\n",
    "from bs4 import BeautifulSoup\n",
    "import pandas as pd\n",
    "driver = webdriver.Chrome(executable_path = r\"C:\\Users\\sheik\\Downloads\\chromedriver_win32\\chromedriver.exe\")\n",
    "products=[] \n",
    "prices=[] \n",
    "types=[] \n",
    "company=[]\n",
    "formula=[]\n",
    "dosesize=[]\n",
    "quan=[]\n",
    "def getmedicine(pages,labels):\n",
    "    driver.get(\"https://www.1mg.com/drugs-all-medicines?page=\"+str(pages)+\"&label=\"+labels)\n",
    "    content = driver.page_source\n",
    "    soup = BeautifulSoup(content,'html.parser')\n",
    "    medList=soup.findAll('div',attrs={'class' : 'style__width-100p___2woP5 style__flex-row___m8FHw'})\n",
    "    for a in medList:\n",
    "        name=(a.find('div', attrs={'class':'style__font-bold___1k9Dl style__font-14px___YZZrf style__flex-row___2AKyf style__space-between___2mbvn style__padding-bottom-5px___2NrDR'}).findChildren()[0])\n",
    "        price=(a.find('div', attrs={'class':'style__font-bold___1k9Dl style__font-14px___YZZrf style__flex-row___2AKyf style__space-between___2mbvn style__padding-bottom-5px___2NrDR'}).findChildren()[1])\n",
    "        Type=a.find('div', attrs={'class':'style__font-12px___2ru_e style__product-content___5PFBW style__display-inline-block___2y7gd'})\n",
    "        Company=(a.find('div',attrs={'class':'style__flex-column___1zNVy style__font-12px___2ru_e'}).findChildren()[1])\n",
    "        Formula=a.find('div',attrs={'class':'style__font-12px___2ru_e style__product-content___5PFBW style__display-inline-block___2y7gd'})\n",
    "        DoseSize=a.find('div',attrs={'class':'style__font-12px___2ru_e style__product-content___5PFBW style__display-inline-block___2y7gd'})\n",
    "        Quantity=(a.find('div',attrs={'class':'style__flex-column___1zNVy style__font-12px___2ru_e'}).findChildren()[0])\n",
    "        products.append(name.text)\n",
    "        prices.append(price.text)\n",
    "        types.append(Type.text)\n",
    "        company.append(Company.text)\n",
    "        formula.append(Formula.text)\n",
    "        dosesize.append(DoseSize.text)\n",
    "        quan.append(Quantity.text)\n",
    "    return\n",
    "\n",
    "alpha = []\n",
    "count = 97  \n",
    "\n",
    "for i in range(26):\n",
    "    alpha.append(chr(count))\n",
    "    count = count+1\n",
    "    \n",
    "for i in range(26):\n",
    "    driver.get(\"https://www.1mg.com/drugs-all-medicines?label=\"+alpha[i])\n",
    "    content = driver.page_source\n",
    "    soup = BeautifulSoup(content)\n",
    "    page = soup.find_all('a',{'class':'button-text link-page'})\n",
    "    check = int(page[len(page)-1].text)  \n",
    "    for x in range(1,check+1): \n",
    "        getmedicine(x,alpha[i])\n",
    "\n",
    "    \n",
    "df = pd.DataFrame({'Product Name':products,'Price':prices,'Type':types,'Company':company,'Formula':formula,'Dose Size':dosesize,'Quantity':quan})\n",
    "df.to_csv(\"Medicine.csv\",index = False)"
   ]
  },
  {
   "cell_type": "code",
   "execution_count": null,
   "id": "1701403a",
   "metadata": {},
   "outputs": [],
   "source": []
  },
  {
   "cell_type": "code",
   "execution_count": null,
   "id": "22218a75",
   "metadata": {},
   "outputs": [],
   "source": []
  }
 ],
 "metadata": {
  "kernelspec": {
   "display_name": "Python 3",
   "language": "python",
   "name": "python3"
  },
  "language_info": {
   "codemirror_mode": {
    "name": "ipython",
    "version": 3
   },
   "file_extension": ".py",
   "mimetype": "text/x-python",
   "name": "python",
   "nbconvert_exporter": "python",
   "pygments_lexer": "ipython3",
   "version": "3.8.8"
  }
 },
 "nbformat": 4,
 "nbformat_minor": 5
}
