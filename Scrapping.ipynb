{
 "cells": [
  {
   "cell_type": "code",
   "execution_count": 2,
   "id": "29f105ee",
   "metadata": {},
   "outputs": [],
   "source": [
    "from selenium import webdriver\n",
    "from bs4 import BeautifulSoup\n",
    "import pandas as pd\n",
    "driver = webdriver.Chrome(executable_path='C:\\\\Users\\\\Zain Ch\\\\anaconda3\\\\chromedriver_win32\\\\chromedriver.exe')\n",
    "products=[] \n",
    "prices=[] \n",
    "ratings=[] \n",
    "driver.get(\"https://www.1mg.com/\")\n",
    "content = driver.page_source\n",
    "soup = BeautifulSoup(content)\n",
    "for a in soup.findAll('div',attrs={'class':'_37K3-p'}):\n",
    "    print (a)\n",
    "    name=a.find('div', attrs={'class':'Human Insulatard 40IU/ml Suspension for Injection'})\n",
    "    price=a.find('span', attrs={'class':'143.42'})\n",
    "    rating=a.find('div', attrs={'class':'Insulin Isophane (40IU)'})\n",
    "    products.append(name.text)\n",
    "    prices.append(price.text)\n",
    "    ratings.append(rating.text)\n",
    "df = pd.DataFrame({'Product Name':products,'Price':prices,'Rating':ratings})\n",
    "df.to_csv('product1.csv', index=False, encoding='utf-8')"
   ]
  },
  {
   "cell_type": "code",
   "execution_count": null,
   "id": "2fdd2102",
   "metadata": {},
   "outputs": [],
   "source": []
  }
 ],
 "metadata": {
  "kernelspec": {
   "display_name": "Python 3",
   "language": "python",
   "name": "python3"
  },
  "language_info": {
   "codemirror_mode": {
    "name": "ipython",
    "version": 3
   },
   "file_extension": ".py",
   "mimetype": "text/x-python",
   "name": "python",
   "nbconvert_exporter": "python",
   "pygments_lexer": "ipython3",
   "version": "3.8.8"
  }
 },
 "nbformat": 4,
 "nbformat_minor": 5
}
