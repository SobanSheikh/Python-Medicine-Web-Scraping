{
 "cells": [
  {
   "cell_type": "code",
   "execution_count": 3,
   "id": "955bf11f",
   "metadata": {},
   "outputs": [],
   "source": [
    "from selenium import webdriver\n",
    "from bs4 import BeautifulSoup\n",
    "import pandas as pd\n",
    "driver = webdriver.Chrome(executable_path = r\"C:\\Users\\sheik\\Downloads\\chromedriver_win32\\chromedriver.exe\")\n",
    "products=[] #List to store name of the product\n",
    "prices=[] #List to store price of the product\n",
    "quantity = [] # to store the amount/ quantity\n",
    "company = [] # to stroe the nanme of the company\n",
    "types = [] # to store the type\n",
    "\n",
    "def getphones(pages,labels):\n",
    "    driver.get(\"https://www.1mg.com/drugs-all-medicines?page=\"+str(pages)+\"&label=\"+labels)\n",
    "    content = driver.page_source\n",
    "    soup = BeautifulSoup(content)\n",
    "    model = soup.find_all('div',{'class' : 'style__width-100p___2woP5 style__flex-row___m8FHw'})\n",
    "\n",
    "    for a in model:\n",
    "        name=(a.find('div', attrs = {'class' : 'style__font-bold___1k9Dl style__font-14px___YZZrf style__flex-row___2AKyf style__space-between___2mbvn style__padding-bottom-5px___2NrDR'}).findChildren()[0])\n",
    "        price=(a.find('div', attrs = {'class' : 'style__font-bold___1k9Dl style__font-14px___YZZrf style__flex-row___2AKyf style__space-between___2mbvn style__padding-bottom-5px___2NrDR'}).findChildren()[1])\n",
    "        quan = (a.find('div', attrs = {'class' : 'style__flex-column___1zNVy style__font-12px___2ru_e'}).findChildren()[0])\n",
    "        comp = (a.find('div', attrs = {'class' : 'style__flex-column___1zNVy style__font-12px___2ru_e'}).findChildren()[1])\n",
    "        typ = a.find('div', attrs = {'class' : 'style__font-12px___2ru_e style__product-content___5PFBW style__display-inline-block___2y7gd'})\n",
    "        products.append(name.text)\n",
    "        prices.append(price.text)\n",
    "        quantity.append(quan.text)\n",
    "        company.append(comp.text)\n",
    "        types.append(typ.text)\n",
    "    return\n",
    "\n",
    "alpha = [] # array to store the labels\n",
    "count = 97  \n",
    "\n",
    "\n",
    "\n",
    "for i in range(26):\n",
    "    alpha.append(chr(count))\n",
    "    count = count+1\n",
    "    \n",
    "for i in range(26):\n",
    "    driver.get(\"https://www.1mg.com/drugs-all-medicines?label=\"+alpha[i]) \n",
    "    content = driver.page_source\n",
    "    soup = BeautifulSoup(content)\n",
    "    page = soup.find_all('a',{'class':'button-text link-page'}) # getting the amount of pages in a label\n",
    "    check = int(page[len(page)-1].text) # getting the maximun pages under a particular label\n",
    "    for x in range(1,check): \n",
    "        getphones(x,alpha[i])\n",
    "    \n",
    "df = pd.DataFrame({'Product Name':products,'Price':prices,'Quantity':quantity,'Company':company, 'Type':types})\n",
    "df.to_csv(\"Medicine.csv\",index = False)  # converting to csv"
   ]
  },
  {
   "cell_type": "code",
   "execution_count": null,
   "id": "c2f46f18",
   "metadata": {
    "scrolled": true
   },
   "outputs": [],
   "source": []
  },
  {
   "cell_type": "code",
   "execution_count": null,
   "id": "f569ae35",
   "metadata": {},
   "outputs": [],
   "source": []
  },
  {
   "cell_type": "code",
   "execution_count": null,
   "id": "ffb115cf",
   "metadata": {},
   "outputs": [],
   "source": []
  },
  {
   "cell_type": "code",
   "execution_count": null,
   "id": "0bca3716",
   "metadata": {},
   "outputs": [],
   "source": []
  },
  {
   "cell_type": "code",
   "execution_count": null,
   "id": "df15890f",
   "metadata": {},
   "outputs": [],
   "source": []
  },
  {
   "cell_type": "code",
   "execution_count": null,
   "id": "ae528377",
   "metadata": {},
   "outputs": [],
   "source": []
  },
  {
   "cell_type": "code",
   "execution_count": null,
   "id": "e1daf88c",
   "metadata": {},
   "outputs": [],
   "source": []
  },
  {
   "cell_type": "code",
   "execution_count": null,
   "id": "77b7beea",
   "metadata": {},
   "outputs": [],
   "source": []
  },
  {
   "cell_type": "code",
   "execution_count": null,
   "id": "6d192411",
   "metadata": {},
   "outputs": [],
   "source": []
  },
  {
   "cell_type": "code",
   "execution_count": null,
   "id": "f60be6a2",
   "metadata": {},
   "outputs": [],
   "source": []
  },
  {
   "cell_type": "code",
   "execution_count": null,
   "id": "e5cd26fa",
   "metadata": {},
   "outputs": [],
   "source": []
  }
 ],
 "metadata": {
  "kernelspec": {
   "display_name": "Python 3",
   "language": "python",
   "name": "python3"
  },
  "language_info": {
   "codemirror_mode": {
    "name": "ipython",
    "version": 3
   },
   "file_extension": ".py",
   "mimetype": "text/x-python",
   "name": "python",
   "nbconvert_exporter": "python",
   "pygments_lexer": "ipython3",
   "version": "3.8.8"
  }
 },
 "nbformat": 4,
 "nbformat_minor": 5
}
